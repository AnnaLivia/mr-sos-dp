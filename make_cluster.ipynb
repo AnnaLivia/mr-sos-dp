{
 "cells": [
  {
   "cell_type": "code",
   "id": "c7946598-4311-4d31-bde0-a33f6652dc38",
   "metadata": {
    "pycharm": {
     "name": "#%%\n"
    }
   },
   "source": [
    "import numpy as np\n",
    "import pandas as pd\n",
    "from matplotlib import pyplot as plt\n",
    "from sklearn.cluster import SpectralCoclustering\n",
    "from sklearn.datasets import make_blobs"
   ],
   "outputs": [],
   "execution_count": null
  },
  {
   "cell_type": "code",
   "id": "229500cc-a8e7-4564-9b21-dc6d6ec90c00",
   "metadata": {
    "pycharm": {
     "name": "#%%\n"
    }
   },
   "source": [
    "base_path = './artificial_instances'\n",
    "\n",
    "n = 3000\n",
    "k = 4\n",
    "sd = 0.9\n",
    "\n",
    "dataset_name = 'art_' + str(n) + '_' + str(k) + '_' + str(sd)\n",
    "\n",
    "X, y_true = make_blobs(n_samples=n, centers=k, cluster_std=sd, random_state=0)\n",
    "\n",
    "plt.title(dataset_name)\n",
    "plt.scatter(X[:, 0], X[:, 1], s=20)\n",
    "plt.savefig(base_path + '/plot/' + dataset_name + \".png\", bbox_inches='tight')\n",
    "plt.show()\n",
    "\n",
    "# create dataset and save it\n",
    "dataset = pd.DataFrame(X)\n",
    "n, d = dataset.shape\n",
    "f = open(base_path + '/data/' + dataset_name + \".txt\", 'w')\n",
    "f.write(str(n) + \" \" + str(d) + \"\\n\")\n",
    "f.close()\n",
    "dataset.to_csv(base_path + '/data/' + dataset_name + \".txt\", index=False, header=None, sep=' ', mode=\"a\")\n",
    "print('Done!')"
   ],
   "outputs": [],
   "execution_count": null
  },
  {
   "cell_type": "code",
   "id": "63eeb3fc-411f-4d83-9867-2377a2010573",
   "metadata": {
    "pycharm": {
     "name": "#%%\n"
    }
   },
   "source": [],
   "outputs": [],
   "execution_count": null
  }
 ],
 "metadata": {
  "kernelspec": {
   "display_name": "Python 3 (ipykernel)",
   "language": "python",
   "name": "python3"
  },
  "language_info": {
   "codemirror_mode": {
    "name": "ipython",
    "version": 3
   },
   "file_extension": ".py",
   "mimetype": "text/x-python",
   "name": "python",
   "nbconvert_exporter": "python",
   "pygments_lexer": "ipython3",
   "version": "3.9.18"
  }
 },
 "nbformat": 4,
 "nbformat_minor": 5
}
