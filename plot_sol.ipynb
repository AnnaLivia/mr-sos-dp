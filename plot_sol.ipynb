{
 "cells": [
  {
   "cell_type": "code",
   "id": "c7946598-4311-4d31-bde0-a33f6652dc38",
   "metadata": {
    "pycharm": {
     "name": "#%%\n"
    },
    "ExecuteTime": {
     "end_time": "2024-04-18T17:13:43.384115Z",
     "start_time": "2024-04-18T17:13:40.884387Z"
    }
   },
   "source": [
    "import numpy as np\n",
    "from matplotlib import pyplot as plt\n",
    "from sklearn.cluster import SpectralCoclustering\n",
    "from sklearn.datasets import make_blobs\n",
    "from pathlib import Path\n",
    "\n",
    "import os\n",
    "import glob2"
   ],
   "outputs": [],
   "execution_count": 2
  },
  {
   "metadata": {
    "ExecuteTime": {
     "end_time": "2024-04-18T17:13:43.391732Z",
     "start_time": "2024-04-18T17:13:43.384115Z"
    }
   },
   "cell_type": "code",
   "source": [
    "p = 3\n",
    "k = 4\n",
    "inst_name = 'ruspini'"
   ],
   "id": "ca75fbf8e81e2ea2",
   "outputs": [],
   "execution_count": 3
  },
  {
   "cell_type": "code",
   "id": "229500cc-a8e7-4564-9b21-dc6d6ec90c00",
   "metadata": {
    "pycharm": {
     "name": "#%%\n"
    },
    "ExecuteTime": {
     "end_time": "2024-04-18T17:14:13.822547Z",
     "start_time": "2024-04-18T17:14:12.618953Z"
    }
   },
   "source": [
    "result_path = os.getcwd() + '\\\\instances\\\\results\\\\' + str(p) + \"part\\\\\" + inst_name + '_' + str(k) + \"\\\\\"\n",
    "result_path = '\\\\\\wsl.localhost\\\\Ubuntu-22.04\\\\home\\\\aelle\\\\mr-sos-dp\\\\instances\\\\results\\\\' + str(p) + \"part\\\\\" + inst_name + '_' + str(k) + \"\\\\\"\n",
    "color_map = [\"r\", \"g\", \"b\", \"y\", \"m\", \"o\", \"w\", \"c\", \"v\"]\n",
    "marker_map = [\"o\", \"<\", \">\", \"D\", \"*\", \".\", \",\", \"v\", \"^\"]\n",
    "if os.path.exists(result_path):\n",
    "    for file in glob2.glob(result_path + \"*.txt\"):\n",
    "        if \"LBit\" in str(file):\n",
    "            part = np.loadtxt(file, usecols=0).astype(int)\n",
    "            point = np.loadtxt(file, usecols=1).astype(int)\n",
    "            data = np.loadtxt(file, usecols=range(2,4))\n",
    "            cls = np.loadtxt(file, usecols=range(4,4+k))\n",
    "            n = point.shape[0]\n",
    "            for j in range(n):\n",
    "                color= color_map[np.argwhere(cls[j, :]==1)[0].item()]\n",
    "                p = part[j]\n",
    "                mark = marker_map[p-1]\n",
    "                #plt.scatter(data[j,0], data[j,1], s=20, marker=mark, c=color, label=p)\n",
    "                plt.scatter(data[j,0], data[j,1], s=20, c=color_map[p-1], label=p)\n",
    "            file = Path(file).stem\n",
    "            plt.title(file)\n",
    "            # plt.legend(np.unique(part))\n",
    "            plt.savefig(file + \".png\", bbox_inches='tight')\n",
    "            plt.show()\n",
    "\n",
    "print('Done!')"
   ],
   "outputs": [
    {
     "data": {
      "text/plain": [
       "<Figure size 640x480 with 1 Axes>"
      ],
      "image/png": "[encoded data removed]"
     },
     "metadata": {},
     "output_type": "display_data"
    },
    {
     "name": "stdout",
     "output_type": "stream",
     "text": [
      "Done!\n"
     ]
    }
   ],
   "execution_count": 6
  },
  {
   "metadata": {},
   "cell_type": "code",
   "outputs": [],
   "execution_count": null,
   "source": [
    "result_path = os.getcwd() + '\\\\instances\\\\results\\\\' + str(p) + \"part\\\\\" + inst_name + '_' + str(k) + \"\\\\\"\n",
    "result_path = '\\\\\\wsl.localhost\\\\Ubuntu-22.04\\\\home\\\\aelle\\\\mr-sos-dp\\\\instances\\\\results\\\\' + str(p) + \"part\\\\\" + inst_name + '_' + str(k) + \"\\\\\"\n",
    "color_map = [\"r\", \"g\", \"b\", \"y\", \"m\", \"o\", \"w\", \"c\", \"v\"]\n",
    "marker_map = [\"o\", \"<\", \">\", \"D\", \"*\", \".\", \",\", \"v\", \"^\"]\n",
    "if os.path.exists(result_path):\n",
    "    for file in glob2.glob(result_path + \"*.txt\"):\n",
    "        if \"LBit\" in str(file):\n",
    "            part = np.loadtxt(file, usecols=0).astype(int)\n",
    "            point = np.loadtxt(file, usecols=1).astype(int)\n",
    "            data = np.loadtxt(file, usecols=range(2,4))\n",
    "            cls = np.loadtxt(file, usecols=range(4,4+k))\n",
    "            n = point.shape[0]\n",
    "            for j in range(n):\n",
    "                color= color_map[np.argwhere(cls[j, :]==1)[0].item()]\n",
    "                p = part[j]\n",
    "                mark = marker_map[p-1]\n",
    "                plt.scatter(data[j,0], data[j,1], s=20, c=color, label=p)\n",
    "            file = Path(file).stem\n",
    "            plt.title(file)\n",
    "            #plt.legend(labels=np.unique(part), markers=simbol[0:np.unique(part).size])\n",
    "            plt.savefig(file + \".png\", bbox_inches='tight')\n",
    "            plt.show()\n",
    "\n",
    "print('Done!')"
   ],
   "id": "4471236e7e05400d"
  },
  {
   "metadata": {
    "ExecuteTime": {
     "end_time": "2024-04-18T15:19:58.667726Z",
     "start_time": "2024-04-18T15:19:58.646202Z"
    }
   },
   "cell_type": "code",
   "source": [
    "result_path = os.getcwd() + '\\\\instances\\\\results\\\\' + str(p) + \"part\\\\\" + inst_name + '_' + str(k) + \"\\\\\"\n",
    "result_path = '\\\\\\wsl.localhost\\\\Ubuntu-22.04\\\\home\\\\aelle\\\\mr-sos-dp\\\\instances\\\\results\\\\' + str(p) + \"part\\\\\" + inst_name + '_' + str(k) + \"\\\\\"\n",
    "if os.path.exists(result_path):\n",
    "    print(\"esiste\")\n",
    "    for file in glob2.glob(result_path + \"*.txt\"):\n",
    "        if \"UBit\" in str(file):\n",
    "            point = np.loadtxt(file, usecols=0)\n",
    "            data = np.loadtxt(file, usecols=range(1,3))\n",
    "            cls = np.loadtxt(file, usecols=range(3,3+k))\n",
    "            n = point.shape[0]\n",
    "            categories = np.zeros(n)\n",
    "            for j in range(n):\n",
    "                categories[j] = np.argwhere(cls[j, :]==1)[0].item()\n",
    "            file = Path(file).stem\n",
    "            plt.title(file)\n",
    "            plt.scatter(data[:,0], data[:,1], s=5, c=categories)\n",
    "            plt.savefig(file + \".png\", bbox_inches='tight')\n",
    "            plt.show()\n",
    "\n",
    "print('Done!')"
   ],
   "id": "2bca04aba4a3e52a",
   "outputs": [
    {
     "name": "stdout",
     "output_type": "stream",
     "text": [
      "Done!\n"
     ]
    }
   ],
   "execution_count": 29
  },
  {
   "metadata": {
    "ExecuteTime": {
     "end_time": "2024-04-18T12:48:13.893287Z",
     "start_time": "2024-04-18T12:48:13.872959Z"
    }
   },
   "cell_type": "code",
   "source": "os.getcwd()\n",
   "id": "153d652484fb2b4e",
   "outputs": [
    {
     "data": {
      "text/plain": [
       "'C:\\\\Users\\\\moden\\\\OneDrive - uniroma1.it\\\\Documenti\\\\Esercizi_ingegneria\\\\TRENI'"
      ]
     },
     "execution_count": 9,
     "metadata": {},
     "output_type": "execute_result"
    }
   ],
   "execution_count": 9
  },
  {
   "metadata": {},
   "cell_type": "code",
   "outputs": [],
   "execution_count": null,
   "source": "",
   "id": "74df610e2e663eb2"
  }
 ],
 "metadata": {
  "kernelspec": {
   "display_name": "Python 3 (ipykernel)",
   "language": "python",
   "name": "python3"
  },
  "language_info": {
   "codemirror_mode": {
    "name": "ipython",
    "version": 3
   },
   "file_extension": ".py",
   "mimetype": "text/x-python",
   "name": "python",
   "nbconvert_exporter": "python",
   "pygments_lexer": "ipython3",
   "version": "3.9.18"
  }
 },
 "nbformat": 4,
 "nbformat_minor": 5
}
